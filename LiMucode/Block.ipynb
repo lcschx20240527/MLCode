{
 "cells": [
  {
   "cell_type": "code",
   "execution_count": 4,
   "id": "d1af17a9",
   "metadata": {},
   "outputs": [
    {
     "data": {
      "text/plain": [
       "tensor([[ 0.1749,  0.1689, -0.0624, -0.0513,  0.0611,  0.3318,  0.2474,  0.0919,\n",
       "         -0.1124,  0.0984],\n",
       "        [ 0.1989,  0.1400,  0.0878,  0.0598,  0.1960,  0.2654,  0.1280, -0.0049,\n",
       "         -0.1765,  0.0356]], grad_fn=<AddmmBackward0>)"
      ]
     },
     "execution_count": 4,
     "metadata": {},
     "output_type": "execute_result"
    }
   ],
   "source": [
    "\"\"\"\n",
    "定义层和块\n",
    "\"\"\"\n",
    "import torch\n",
    "from torch import nn\n",
    "from torch.nn import functional as F\n",
    "\n",
    "net = nn.Sequential(nn.Linear(20, 256), nn.ReLU(), nn.Linear(256, 10))\n",
    "\n",
    "X = torch. rand(2, 20)\n",
    "net(X)\n"
   ]
  },
  {
   "cell_type": "code",
   "execution_count": 8,
   "id": "a96584bb",
   "metadata": {},
   "outputs": [
    {
     "data": {
      "text/plain": [
       "tensor([[ 0.0186, -0.0548, -0.0991,  0.1206,  0.0581, -0.3094, -0.0835, -0.2412,\n",
       "         -0.0114,  0.0744],\n",
       "        [ 0.1267,  0.0635, -0.1220,  0.1154, -0.0066, -0.1424, -0.0652, -0.1659,\n",
       "         -0.0141,  0.2454]], grad_fn=<AddmmBackward0>)"
      ]
     },
     "execution_count": 8,
     "metadata": {},
     "output_type": "execute_result"
    }
   ],
   "source": [
    "\"\"\"\n",
    "自定义块\n",
    "\"\"\"\n",
    "class MLP(nn.Module):\n",
    "    def __init__(self):\n",
    "        super().__init__()\n",
    "        self.hidden = nn.Linear(20, 256)\n",
    "        self.out = nn.Linear(256, 10)\n",
    "        \n",
    "    \"\"\"\n",
    "    前向计算\n",
    "    \"\"\"\n",
    "    def forward(self, x):\n",
    "        return self.out(F.relu(self.hidden(X)))\n",
    "net = MLP()\n",
    "net(X) # 调用了net.__call__(X)"
   ]
  },
  {
   "cell_type": "code",
   "execution_count": 14,
   "id": "64026f32",
   "metadata": {},
   "outputs": [
    {
     "data": {
      "text/plain": [
       "tensor([[ 0.1444, -0.0263, -0.1959, -0.1037, -0.1316,  0.0897,  0.3016, -0.0779,\n",
       "          0.1613,  0.1671],\n",
       "        [ 0.0041, -0.0932, -0.0388, -0.0372, -0.1574,  0.1542,  0.1882, -0.0645,\n",
       "          0.1474,  0.1953]], grad_fn=<AddmmBackward0>)"
      ]
     },
     "execution_count": 14,
     "metadata": {},
     "output_type": "execute_result"
    }
   ],
   "source": [
    "\"\"\"\n",
    "定义顺序块\n",
    " def __init__(self， *args) 中有无*args的区别\n",
    " 若有，实例化的时候属性值不能为空， 反之则可以为空\n",
    "\"\"\"\n",
    "class MySequential(nn.Module):\n",
    "    def __init__(self, *args): # 此时按照顺序传入这个类中\n",
    "        super().__init__() # 继承父类\n",
    "        for block in args:\n",
    "            self._modules[block] = block # 此时为按序字典 bhlock 本身作为它的key，存在_modules里面的为层，以字典的形式\n",
    "            \n",
    "    def forward(self, X):\n",
    "        for block in self._modules.values():\n",
    "            X  = block(X) # 按照顺序返回\n",
    "        return X \n",
    "            \n",
    "net = MySequential(nn.Linear(20,256),nn.ReLU(),nn.Linear(256,10))\n",
    "X = torch.rand(2,20)\n",
    "net(X)   "
   ]
  },
  {
   "cell_type": "code",
   "execution_count": 20,
   "id": "36b5a6fa",
   "metadata": {},
   "outputs": [
    {
     "data": {
      "text/plain": [
       "tensor(-0.0961, grad_fn=<SumBackward0>)"
      ]
     },
     "execution_count": 20,
     "metadata": {},
     "output_type": "execute_result"
    }
   ],
   "source": [
    "\"\"\"\n",
    "正向传播\n",
    "\"\"\"\n",
    "class FixedHiddenMLP(nn.Module):\n",
    "    def __init__(self):\n",
    "        super().__init__()\n",
    "        \"\"\"\n",
    "        backward 可以追踪这个参数并且计算它的梯度 在写代码的过程中\n",
    "        不要把网络的输入和 Ground Truth 的 requires_grad 设置为 True\n",
    "        \"\"\"\n",
    "        self.rand_weight = torch.rand((20, 20), requires_grad = False) \n",
    "        self.linear = nn.Linear(20, 20)\n",
    "        \n",
    "    def forward(self, X):\n",
    "        X = self.linear(X)\n",
    "        X = F.relu(torch.mm(X, self.rand_weight) + 1)\n",
    "        X = self.linear(X)\n",
    "        while X.abs().sum() > 1:\n",
    "            X /= 2\n",
    "        return X.sum()\n",
    "    \n",
    "net = FixedHiddenMLP()\n",
    "net(X)\n",
    "        "
   ]
  },
  {
   "cell_type": "code",
   "execution_count": 27,
   "id": "70383b23",
   "metadata": {},
   "outputs": [
    {
     "data": {
      "text/plain": [
       "tensor(-0.0566, grad_fn=<SumBackward0>)"
      ]
     },
     "execution_count": 27,
     "metadata": {},
     "output_type": "execute_result"
    }
   ],
   "source": [
    "\"\"\"\n",
    "混合各种块在一起使用\n",
    "\"\"\"\n",
    "class NestMLP(nn.Module):\n",
    "    def __init__(self):\n",
    "        super().__init__()\n",
    "        self.net = nn.Sequential(nn.Linear(20,64),nn.ReLU(),\n",
    "                                nn.Linear(64,32),nn.ReLU())\n",
    "        self.linear = nn.Linear(32,16)\n",
    "        \n",
    "    def forward(self, X):\n",
    "        return self.linear(self.net(X))\n",
    "    \n",
    "chimear = nn.Sequential(NestMLP(),nn.Linear(16,20),FixedHiddenMLP())\n",
    "X = torch.rand(2,20)\n",
    "chimear(X)"
   ]
  },
  {
   "cell_type": "code",
   "execution_count": 28,
   "id": "e39e7c66",
   "metadata": {},
   "outputs": [
    {
     "name": "stdout",
     "output_type": "stream",
     "text": [
      "tensor([[-0.0983],\n",
      "        [-0.2655]], grad_fn=<AddmmBackward0>)\n",
      "OrderedDict([('weight', tensor([[-0.2916,  0.2529, -0.0201, -0.2267,  0.0269, -0.0150, -0.1336, -0.1406]])), ('bias', tensor([-0.3045]))])\n",
      "<class 'torch.nn.parameter.Parameter'>\n",
      "Parameter containing:\n",
      "tensor([-0.3045], requires_grad=True)\n",
      "tensor([-0.3045])\n",
      "True\n",
      "('weight', torch.Size([8, 4])) ('bias', torch.Size([8]))\n",
      "('0.weight', torch.Size([8, 4])) ('0.bias', torch.Size([8])) ('2.weight', torch.Size([1, 8])) ('2.bias', torch.Size([1]))\n",
      "tensor([-0.3045])\n"
     ]
    }
   ],
   "source": [
    "# 首先关注具有单隐藏层的多层感知机\n",
    "import torch\n",
    "from torch import nn\n",
    "\n",
    "net = nn.Sequential(nn.Linear(4,8),nn.ReLU(),nn.Linear(8,1)) # net是一个python的list\n",
    "X = torch.rand(size=(2,4))\n",
    "print(net(X))\n",
    "\n",
    "print(net[2].state_dict()) # 访问参数，net[2]就是最后一个输出层\n",
    "print(type(net[2].bias)) # 目标参数 \n",
    "print(net[2].bias)\n",
    "print(net[2].bias.data)\n",
    "print(net[2].weight.grad == None) # 还没进行反向计算，所以grad为None\n",
    "print(*[(name, param.shape) for name, param in net[0].named_parameters()])  # 一次性访问所有参数  *解元组      \n",
    "print(*[(name, param.shape) for name, param in net.named_parameters()])  # 0是第一层名字，1是ReLU，它没有参数\n",
    "print(net.state_dict()['2.bias'].data) # 通过名字获取参数"
   ]
  },
  {
   "cell_type": "code",
   "execution_count": 29,
   "id": "d53131e6",
   "metadata": {},
   "outputs": [
    {
     "name": "stdout",
     "output_type": "stream",
     "text": [
      "tensor([[-0.2849],\n",
      "        [-0.2849]], grad_fn=<AddmmBackward0>)\n",
      "Sequential(\n",
      "  (0): Sequential(\n",
      "    (block0): Sequential(\n",
      "      (0): Linear(in_features=4, out_features=8, bias=True)\n",
      "      (1): ReLU()\n",
      "      (2): Linear(in_features=8, out_features=4, bias=True)\n",
      "      (3): ReLU()\n",
      "    )\n",
      "    (block1): Sequential(\n",
      "      (0): Linear(in_features=4, out_features=8, bias=True)\n",
      "      (1): ReLU()\n",
      "      (2): Linear(in_features=8, out_features=4, bias=True)\n",
      "      (3): ReLU()\n",
      "    )\n",
      "    (block2): Sequential(\n",
      "      (0): Linear(in_features=4, out_features=8, bias=True)\n",
      "      (1): ReLU()\n",
      "      (2): Linear(in_features=8, out_features=4, bias=True)\n",
      "      (3): ReLU()\n",
      "    )\n",
      "    (block3): Sequential(\n",
      "      (0): Linear(in_features=4, out_features=8, bias=True)\n",
      "      (1): ReLU()\n",
      "      (2): Linear(in_features=8, out_features=4, bias=True)\n",
      "      (3): ReLU()\n",
      "    )\n",
      "  )\n",
      "  (1): Linear(in_features=4, out_features=1, bias=True)\n",
      ")\n"
     ]
    }
   ],
   "source": [
    "\"\"\"\n",
    "嵌套快\n",
    "\"\"\"\n",
    "# 从嵌套块收集参数\n",
    "def block1():\n",
    "    return nn.Sequential(nn.Linear(4,8),nn.ReLU(),nn.Linear(8,4),nn.ReLU())\n",
    "\n",
    "def block2():\n",
    "    net = nn.Sequential()\n",
    "    for i in range(4):\n",
    "        net.add_module(f'block{i}',block1()) # f'block{i}' 可以传一个字符串名字过来，block2可以嵌套四个block1                                      \n",
    "    return net\n",
    "\n",
    "rgnet = nn.Sequential(block2(), nn.Linear(4,1))\n",
    "print(rgnet(X))\n",
    "print(rgnet)"
   ]
  },
  {
   "cell_type": "code",
   "execution_count": 30,
   "id": "6def6edb",
   "metadata": {},
   "outputs": [
    {
     "name": "stdout",
     "output_type": "stream",
     "text": [
      "tensor([-0.0008,  0.0039,  0.0094,  0.0038])\n",
      "tensor(0.)\n"
     ]
    }
   ],
   "source": [
    "\"\"\"内置初始化\"\"\"\n",
    "net = nn.Sequential(nn.Linear(4,8),nn.ReLU(),nn.Linear(8,1))\n",
    "\n",
    "def init_normal(m): # m是一个Moudel\n",
    "    if type(m) == nn.Linear: # 如果m是线性层\n",
    "        nn.init.normal_(m.weight, mean=0, std=0.01) # 下划线表示把m.weight的值替换掉   添加下划线为原地操作 直接修改torch的内容 节省内存\n",
    "        nn.init.zeros_(m.bias)\n",
    "        \n",
    "net.apply(init_normal) # 会递归调用 直到所有层都初始化 类似于深度优先算法\n",
    "print(net[0].weight.data[0])\n",
    "print(net[0].bias.data[0])"
   ]
  },
  {
   "cell_type": "code",
   "execution_count": 31,
   "id": "f430095c",
   "metadata": {},
   "outputs": [
    {
     "name": "stdout",
     "output_type": "stream",
     "text": [
      "tensor([ 0.1266,  0.6019,  0.3107, -0.3287])\n",
      "tensor([[42., 42., 42., 42., 42., 42., 42., 42.]])\n"
     ]
    }
   ],
   "source": [
    "# 对某些块应用不同的初始化\n",
    "def xavier(m):\n",
    "    if type(m) == nn.Linear:\n",
    "        nn.init.xavier_uniform_(m.weight)    \n",
    "        \n",
    "def init_42(m):\n",
    "    if type(m) == nn.Linear:\n",
    "        nn.init.constant_(m.weight, 42)\n",
    "        \n",
    "net[0].apply(xavier)\n",
    "net[2].apply(init_42)\n",
    "print(net[0].weight.data[0])\n",
    "print(net[2].weight.data)"
   ]
  },
  {
   "cell_type": "code",
   "execution_count": 32,
   "id": "beba8eec",
   "metadata": {},
   "outputs": [
    {
     "name": "stdout",
     "output_type": "stream",
     "text": [
      "Init weight torch.Size([8, 4])\n",
      "Init weight torch.Size([1, 8])\n",
      "tensor([[ 0.0000, -9.4000,  8.0926, -0.0000],\n",
      "        [ 7.5735, -0.0000, -5.7080,  6.8718]], grad_fn=<SliceBackward0>)\n",
      "tensor([42.0000, -8.4000,  9.0926,  1.0000])\n"
     ]
    }
   ],
   "source": [
    "\"\"\"\n",
    "参数替换\n",
    "\"\"\"\n",
    "# 自定义初始化\n",
    "def my_init(m):\n",
    "    if type(m) == nn.Linear:\n",
    "        print(\"Init\",*[(name, param.shape) for name, param in m.named_parameters()][0])  # 打印名字是啥，形状是啥       \n",
    "        nn.init.uniform_(m.weight, -10, 10)\n",
    "        m.weight.data *= m.weight.data.abs() >=  5 # 这里*=的代码相当于先计算一个布尔矩阵(先判断>=)，然后再用布尔矩阵的对应元素去乘以原始矩阵的每个元素。保留绝对值大于5的权重，不是的话就设为0\n",
    "\n",
    "net.apply(my_init)\n",
    "print(net[0].weight[:2])\n",
    "net[0].weight.data[:] += 1 # 所有的数值加一 参数替换\n",
    "net[0].weight.data[0,0] = 42\n",
    "print(net[0].weight.data[0])"
   ]
  },
  {
   "cell_type": "code",
   "execution_count": 33,
   "id": "8fb14140",
   "metadata": {},
   "outputs": [
    {
     "name": "stdout",
     "output_type": "stream",
     "text": [
      "tensor([True, True, True, True, True, True, True, True])\n",
      "tensor([True, True, True, True, True, True, True, True])\n"
     ]
    }
   ],
   "source": [
    "# 参数绑定 数据共享\n",
    "shared = nn.Linear(8,8) # shared层\n",
    "net = nn.Sequential(nn.Linear(4,8),nn.ReLU(),shared,nn.ReLU(),\n",
    "                    shared,nn.ReLU(),nn.Linear(8,1))  # 第2个隐藏层和第3个隐藏层是share权重的，第一个和第四个是自己的  \n",
    "net(X)\n",
    "print(net[2].weight.data[0] == net[4].weight.data[0]) # net[2]是第一个shared, \n",
    "net[2].weight.data[0,0] = 100\n",
    "print(net[2].weight.data[0] == net[4].weight.data[0])"
   ]
  },
  {
   "cell_type": "code",
   "execution_count": 39,
   "id": "0d45bf44",
   "metadata": {},
   "outputs": [
    {
     "name": "stdout",
     "output_type": "stream",
     "text": [
      "tensor(2.3283e-09, grad_fn=<MeanBackward0>)\n",
      "Parameter containing:\n",
      "tensor([[-1.3157,  0.7079,  1.2524],\n",
      "        [ 0.3657, -0.1251,  0.8822],\n",
      "        [-0.9113, -0.6550, -0.0930],\n",
      "        [ 1.0832,  1.2037,  0.6270],\n",
      "        [-0.2388,  0.8205,  0.7066]], requires_grad=True)\n"
     ]
    }
   ],
   "source": [
    "\"\"\"\n",
    "自定义层\n",
    "构造一个没有任何参数的自定义层\n",
    "\"\"\"\n",
    "import torch\n",
    "import torch.nn.functional as F\n",
    "from torch import nn\n",
    "\n",
    "\n",
    "class C(nn.Module):\n",
    "    def __init__(self):\n",
    "        super().__init__()\n",
    "        \n",
    "    def forward(self, X):\n",
    "        return X - X.mean()\n",
    "    \n",
    "layer = C()\n",
    "layer = (torch.FloatTensor([1, 2, 3, 4, 5]))\n",
    "\n",
    "# 将层作为组件合并到构建更复杂的模型中\n",
    "net = nn.Sequential(nn.Linear(8,128),C())\n",
    "Y = net(torch.rand(4,8))\n",
    "print(Y.mean())\n",
    "\n",
    "\n",
    "\n",
    "# 带参数的图层\n",
    "class MyLinear(nn.Module):\n",
    "    def __init__(self, in_units, units):\n",
    "        super().__init__()\n",
    "        self.weight = nn.Parameter(torch.randn(in_units,units)) # nn.Parameter使得这些参数加上了梯度    \n",
    "        self.bias = nn.Parameter(torch.randn(units,))\n",
    "\n",
    "    def forward(self, X):\n",
    "        linear = torch.matmul(X, self.weight.data) + self.bias.data\n",
    "        return F.relu(linear)\n",
    "    \n",
    "dense = MyLinear(5,3)\n",
    "print(dense.weight)\n",
    "\n",
    "# 使用自定义层直接执行正向传播计算\n",
    "print(dense(torch.rand(2,5)))\n",
    "# 使用自定义层构建模型\n",
    "net = nn.Sequential(MyLinear(64,8),MyLinear(8,1))\n",
    "print(net(torch.rand(2,64)))"
   ]
  },
  {
   "cell_type": "code",
   "execution_count": 45,
   "id": "cd7f6ba9",
   "metadata": {},
   "outputs": [
    {
     "name": "stdout",
     "output_type": "stream",
     "text": [
      "tensor([0, 1, 2, 3])\n",
      "tensor([0, 1, 2, 3])\n",
      "tensor([0., 0., 0., 0.])\n",
      "{'x': tensor([0, 1, 2, 3]), 'y': tensor([0., 0., 0., 0.])}\n",
      "MLP(\n",
      "  (hidden): Linear(in_features=20, out_features=256, bias=True)\n",
      "  (output): Linear(in_features=256, out_features=10, bias=True)\n",
      ")\n",
      "  ####\n",
      "tensor([[True, True, True, True, True, True, True, True, True, True],\n",
      "        [True, True, True, True, True, True, True, True, True, True]])\n"
     ]
    }
   ],
   "source": [
    "\"\"\"\n",
    "读写文件\n",
    "\"\"\"\n",
    "# 加载和保存张量\n",
    "import torch\n",
    "from torch import nn\n",
    "from torch.nn import functional as F\n",
    "\n",
    "x = torch.arange(4)\n",
    "torch.save(x, 'x-file')\n",
    "x2 = torch.load(\"x-file\")\n",
    "print(x2)\n",
    "\n",
    "#存储一个张量列表，然后把它们读回内存\n",
    "y = torch.zeros(4)\n",
    "torch.save([x,y],'x-files')\n",
    "x2, y2 = torch.load('x-files')\n",
    "print(x2)\n",
    "print(y2)\n",
    "\n",
    "# 写入或读取从字符串映射到张量的字典\n",
    "mydict = {'x':x,'y':y}\n",
    "torch.save(mydict,'mydict')\n",
    "mydict2 = torch.load('mydict')\n",
    "print(mydict2)\n",
    "\n",
    "# 加载和保存模型参数\n",
    "class MLP(nn.Module):\n",
    "    def __init__(self):\n",
    "        super().__init__()\n",
    "        self.hidden = nn.Linear(20,256)\n",
    "        self.output = nn.Linear(256,10)\n",
    "    \n",
    "    def forward(self, x):\n",
    "        return self.output(F.relu(self.hidden(x)))\n",
    "    \n",
    "net = MLP()\n",
    "X = torch.randn(size=(2,20))\n",
    "Y = net(X)\n",
    "\n",
    "# 将模型的参数存储为一个叫做\"mlp.params\"的文件\n",
    "torch.save(net.state_dict(),'mlp.params')\n",
    "\n",
    "# 实例化了原始多层感知机模型的一个备份。直接读取文件中存储的参数\n",
    "clone = MLP() # 必须要先声明一下，才能导入参数 此时clone的参数是随机初始化的\n",
    "clone.load_state_dict(torch.load(\"mlp.params\")) # 将保存的参数协会\n",
    "print(clone.eval()) # eval()是进入测试模式\n",
    "\n",
    "Y_clone = clone(X)\n",
    "print(Y_clone == Y)"
   ]
  },
  {
   "cell_type": "code",
   "execution_count": null,
   "id": "738aacb5",
   "metadata": {},
   "outputs": [],
   "source": []
  }
 ],
 "metadata": {
  "kernelspec": {
   "display_name": "Python [conda env:pytorch_0] *",
   "language": "python",
   "name": "conda-env-pytorch_0-py"
  },
  "language_info": {
   "codemirror_mode": {
    "name": "ipython",
    "version": 3
   },
   "file_extension": ".py",
   "mimetype": "text/x-python",
   "name": "python",
   "nbconvert_exporter": "python",
   "pygments_lexer": "ipython3",
   "version": "3.10.9"
  }
 },
 "nbformat": 4,
 "nbformat_minor": 5
}
